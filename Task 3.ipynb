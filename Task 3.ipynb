{
 "cells": [
  {
   "cell_type": "markdown",
   "id": "8e7d2ed7",
   "metadata": {},
   "source": [
    "# Function"
   ]
  },
  {
   "cell_type": "markdown",
   "id": "f5f1f890",
   "metadata": {},
   "source": [
    "Write a function add_numbers that takes two numbers as arguments and returns their sum."
   ]
  },
  {
   "cell_type": "code",
   "execution_count": 1,
   "id": "7d0f90b7",
   "metadata": {},
   "outputs": [],
   "source": [
    "def add_numbers(a,b):\n",
    "    c=a+b\n",
    "    return c"
   ]
  },
  {
   "cell_type": "code",
   "execution_count": 2,
   "id": "5097cc45",
   "metadata": {},
   "outputs": [
    {
     "data": {
      "text/plain": [
       "30"
      ]
     },
     "execution_count": 2,
     "metadata": {},
     "output_type": "execute_result"
    }
   ],
   "source": [
    "add_numbers(10,20)"
   ]
  },
  {
   "cell_type": "markdown",
   "id": "df05513a",
   "metadata": {},
   "source": [
    "Write a function multiply_numbers that takes two numbers as arguments and returns their product."
   ]
  },
  {
   "cell_type": "code",
   "execution_count": 3,
   "id": "8f1eb4c2",
   "metadata": {},
   "outputs": [],
   "source": [
    "def multiply_numbers(a,b):\n",
    "    c=a*b\n",
    "    return c"
   ]
  },
  {
   "cell_type": "code",
   "execution_count": 4,
   "id": "5cd55580",
   "metadata": {},
   "outputs": [
    {
     "data": {
      "text/plain": [
       "40"
      ]
     },
     "execution_count": 4,
     "metadata": {},
     "output_type": "execute_result"
    }
   ],
   "source": [
    "multiply_numbers(5,8)"
   ]
  },
  {
   "cell_type": "markdown",
   "id": "530610f6",
   "metadata": {},
   "source": [
    "Write a function divide_numbers that takes two numbers as arguments and returns their quotient. Make\n",
    "sure to handle the case where the second number is 0."
   ]
  },
  {
   "cell_type": "code",
   "execution_count": 5,
   "id": "c8f0c61d",
   "metadata": {},
   "outputs": [],
   "source": [
    "def divide_numbers(a,b):\n",
    "    if(b==0):\n",
    "        print('Error : 0 cannot be divided')\n",
    "    else:\n",
    "        c=a/b\n",
    "        return c"
   ]
  },
  {
   "cell_type": "code",
   "execution_count": 6,
   "id": "f5246817",
   "metadata": {},
   "outputs": [
    {
     "data": {
      "text/plain": [
       "2.0"
      ]
     },
     "execution_count": 6,
     "metadata": {},
     "output_type": "execute_result"
    }
   ],
   "source": [
    "divide_numbers(10,5)"
   ]
  },
  {
   "cell_type": "code",
   "execution_count": 7,
   "id": "a5aa424d",
   "metadata": {},
   "outputs": [
    {
     "name": "stdout",
     "output_type": "stream",
     "text": [
      "Error : 0 cannot be divided\n"
     ]
    }
   ],
   "source": [
    "divide_numbers(2,0)"
   ]
  },
  {
   "cell_type": "markdown",
   "id": "3fdec26b",
   "metadata": {},
   "source": [
    "Write a function calculate_average that takes a list of numbers as an argument and returns their average"
   ]
  },
  {
   "cell_type": "code",
   "execution_count": 8,
   "id": "8abda5d3",
   "metadata": {},
   "outputs": [],
   "source": [
    "a=(1,2,3,4,5,6,7,8,9)\n",
    "def calculate_average(a):\n",
    "    a=sum(a)/len(a)\n",
    "    return a"
   ]
  },
  {
   "cell_type": "code",
   "execution_count": 9,
   "id": "cb9d7d64",
   "metadata": {},
   "outputs": [
    {
     "data": {
      "text/plain": [
       "9"
      ]
     },
     "execution_count": 9,
     "metadata": {},
     "output_type": "execute_result"
    }
   ],
   "source": [
    "len(a)"
   ]
  },
  {
   "cell_type": "code",
   "execution_count": 10,
   "id": "21c33d41",
   "metadata": {},
   "outputs": [
    {
     "data": {
      "text/plain": [
       "5.0"
      ]
     },
     "execution_count": 10,
     "metadata": {},
     "output_type": "execute_result"
    }
   ],
   "source": [
    "calculate_average(a)"
   ]
  },
  {
   "cell_type": "markdown",
   "id": "94cdc878",
   "metadata": {},
   "source": [
    "Write a function is_prime that takes a number as an argument and returns True if the number is prime and\n",
    "False otherwise."
   ]
  },
  {
   "cell_type": "code",
   "execution_count": 11,
   "id": "d766a05e",
   "metadata": {},
   "outputs": [],
   "source": [
    "def is_prime(a):\n",
    "    if a<2:\n",
    "        return False\n",
    "    else:\n",
    "        for i in range(2,a):\n",
    "            if a%i==0:\n",
    "                return False\n",
    "        return True"
   ]
  },
  {
   "cell_type": "code",
   "execution_count": 12,
   "id": "f1f80d45",
   "metadata": {},
   "outputs": [
    {
     "data": {
      "text/plain": [
       "True"
      ]
     },
     "execution_count": 12,
     "metadata": {},
     "output_type": "execute_result"
    }
   ],
   "source": [
    "is_prime(7)"
   ]
  },
  {
   "cell_type": "code",
   "execution_count": 13,
   "id": "8d7cd843",
   "metadata": {},
   "outputs": [
    {
     "data": {
      "text/plain": [
       "False"
      ]
     },
     "execution_count": 13,
     "metadata": {},
     "output_type": "execute_result"
    }
   ],
   "source": [
    "is_prime(6)"
   ]
  },
  {
   "cell_type": "markdown",
   "id": "835aedbc",
   "metadata": {},
   "source": [
    "# OOPS"
   ]
  },
  {
   "cell_type": "markdown",
   "id": "9597b8c0",
   "metadata": {},
   "source": [
    "Create a class Bank with attributes name and accounts. Add methods add_account, remove_account,\n",
    "and get_total_balance that add an account to the list, remove an account from the list, and return the total\n",
    "balance of all accounts, respectively."
   ]
  },
  {
   "cell_type": "code",
   "execution_count": 14,
   "id": "00e01fb5",
   "metadata": {},
   "outputs": [],
   "source": [
    "class Account:\n",
    "    def __init__(self,balance):\n",
    "        self.balance=balance\n",
    "class Bank:\n",
    "    def __init__(self,name,accounts=[]):                                                   \n",
    "        self.name=name\n",
    "        self.accounts=accounts\n",
    "    def add_account(self,account):\n",
    "        self.accounts.append(account)\n",
    "    def remove_account(self,account):\n",
    "        self.accounts.remove(account)\n",
    "    def get_total_balance(self):\n",
    "         return sum(account.balance for account in self.accounts)"
   ]
  },
  {
   "cell_type": "code",
   "execution_count": 15,
   "id": "a626fa17",
   "metadata": {},
   "outputs": [],
   "source": [
    "bank=Bank(\"My Bank\")\n",
    "account1=Account(12000)\n",
    "account2=Account(3000)\n",
    "bank.add_account(account1)\n",
    "bank.add_account(account2)"
   ]
  },
  {
   "cell_type": "code",
   "execution_count": 16,
   "id": "6791c9ef",
   "metadata": {},
   "outputs": [
    {
     "data": {
      "text/plain": [
       "15000"
      ]
     },
     "execution_count": 16,
     "metadata": {},
     "output_type": "execute_result"
    }
   ],
   "source": [
    "bank.get_total_balance()"
   ]
  },
  {
   "cell_type": "code",
   "execution_count": 17,
   "id": "c8b814fd",
   "metadata": {},
   "outputs": [
    {
     "data": {
      "text/plain": [
       "3000"
      ]
     },
     "execution_count": 17,
     "metadata": {},
     "output_type": "execute_result"
    }
   ],
   "source": [
    "bank.remove_account(account1)\n",
    "bank.get_total_balance() "
   ]
  },
  {
   "cell_type": "code",
   "execution_count": null,
   "id": "cd40e125",
   "metadata": {},
   "outputs": [],
   "source": []
  }
 ],
 "metadata": {
  "kernelspec": {
   "display_name": "Python 3 (ipykernel)",
   "language": "python",
   "name": "python3"
  },
  "language_info": {
   "codemirror_mode": {
    "name": "ipython",
    "version": 3
   },
   "file_extension": ".py",
   "mimetype": "text/x-python",
   "name": "python",
   "nbconvert_exporter": "python",
   "pygments_lexer": "ipython3",
   "version": "3.10.9"
  }
 },
 "nbformat": 4,
 "nbformat_minor": 5
}
