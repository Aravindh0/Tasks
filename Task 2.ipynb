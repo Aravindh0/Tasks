{
 "cells": [
  {
   "cell_type": "markdown",
   "id": "7a8d9790",
   "metadata": {},
   "source": [
    "# Task 2"
   ]
  },
  {
   "cell_type": "markdown",
   "id": "2c0ec8ae",
   "metadata": {},
   "source": [
    "1. Create a tuple my_tuple with the values 1, 2, and 3. Print the tuple."
   ]
  },
  {
   "cell_type": "code",
   "execution_count": 1,
   "id": "e564654d",
   "metadata": {},
   "outputs": [
    {
     "data": {
      "text/plain": [
       "tuple"
      ]
     },
     "execution_count": 1,
     "metadata": {},
     "output_type": "execute_result"
    }
   ],
   "source": [
    "my_tuple=(1,2,3)\n",
    "type(my_tuple)"
   ]
  },
  {
   "cell_type": "code",
   "execution_count": 2,
   "id": "0e9dbfcc",
   "metadata": {},
   "outputs": [
    {
     "name": "stdout",
     "output_type": "stream",
     "text": [
      "(1, 2, 3)\n"
     ]
    }
   ],
   "source": [
    "print(my_tuple)"
   ]
  },
  {
   "cell_type": "markdown",
   "id": "b3cacfb0",
   "metadata": {},
   "source": [
    "2. Create a set my_set with the values 1, 2, and 3. Print the set."
   ]
  },
  {
   "cell_type": "code",
   "execution_count": 3,
   "id": "b33e0a15",
   "metadata": {},
   "outputs": [
    {
     "data": {
      "text/plain": [
       "set"
      ]
     },
     "execution_count": 3,
     "metadata": {},
     "output_type": "execute_result"
    }
   ],
   "source": [
    "my_set={1,2,3}\n",
    "type(my_set)"
   ]
  },
  {
   "cell_type": "code",
   "execution_count": 4,
   "id": "2cb150af",
   "metadata": {},
   "outputs": [
    {
     "name": "stdout",
     "output_type": "stream",
     "text": [
      "{1, 2, 3}\n"
     ]
    }
   ],
   "source": [
    "print(my_set)"
   ]
  },
  {
   "cell_type": "markdown",
   "id": "0b834c9f",
   "metadata": {},
   "source": [
    "3. Create a dictionary my_dict with keys \"apple\", \"banana\", and \"cherry\" and values 1, 2, and 3. Print the dictionary."
   ]
  },
  {
   "cell_type": "code",
   "execution_count": 5,
   "id": "66b9458d",
   "metadata": {},
   "outputs": [
    {
     "data": {
      "text/plain": [
       "dict"
      ]
     },
     "execution_count": 5,
     "metadata": {},
     "output_type": "execute_result"
    }
   ],
   "source": [
    "my_dict={'apple':1,'banana':2,'cherry':3}\n",
    "type(my_dict)"
   ]
  },
  {
   "cell_type": "code",
   "execution_count": 6,
   "id": "dc2663f7",
   "metadata": {},
   "outputs": [
    {
     "name": "stdout",
     "output_type": "stream",
     "text": [
      "{'apple': 1, 'banana': 2, 'cherry': 3}\n"
     ]
    }
   ],
   "source": [
    "print(my_dict)"
   ]
  },
  {
   "cell_type": "markdown",
   "id": "d133624d",
   "metadata": {},
   "source": [
    "4. Use a for loop to print the values in my_tuple one by one."
   ]
  },
  {
   "cell_type": "code",
   "execution_count": 7,
   "id": "e47cc633",
   "metadata": {},
   "outputs": [
    {
     "name": "stdout",
     "output_type": "stream",
     "text": [
      "1\n",
      "2\n",
      "3\n",
      "4\n",
      "5\n",
      "6\n",
      "7\n"
     ]
    }
   ],
   "source": [
    "my_tuple=(1,2,3,4,5,6,7)\n",
    "for i in my_tuple:\n",
    "    print(i)"
   ]
  },
  {
   "cell_type": "markdown",
   "id": "7e8b1f2f",
   "metadata": {},
   "source": [
    "5. Use a for loop to print the values in my_set one by one"
   ]
  },
  {
   "cell_type": "code",
   "execution_count": 8,
   "id": "86a6ab6d",
   "metadata": {},
   "outputs": [
    {
     "name": "stdout",
     "output_type": "stream",
     "text": [
      "1\n",
      "2\n",
      "3\n",
      "4\n",
      "5\n",
      "6\n",
      "7\n"
     ]
    }
   ],
   "source": [
    "my_set={1,2,3,4,5,6,7}\n",
    "for i in my_set:\n",
    "    print(i)"
   ]
  },
  {
   "cell_type": "markdown",
   "id": "31530325",
   "metadata": {},
   "source": [
    "6. Use a for loop to print the keys and values in my_dict one by one"
   ]
  },
  {
   "cell_type": "code",
   "execution_count": 9,
   "id": "f464a30d",
   "metadata": {},
   "outputs": [
    {
     "name": "stdout",
     "output_type": "stream",
     "text": [
      "('apple', 1)\n",
      "('banana', 2)\n",
      "('cherry', 3)\n"
     ]
    }
   ],
   "source": [
    "my_dict={'apple':1,'banana':2,'cherry':3}\n",
    "for i in my_dict.items():\n",
    "    print(i)"
   ]
  },
  {
   "cell_type": "markdown",
   "id": "615f9093",
   "metadata": {},
   "source": [
    "7. Use a while loop to print the numbers from 1 to 10."
   ]
  },
  {
   "cell_type": "code",
   "execution_count": 10,
   "id": "4d6a8514",
   "metadata": {},
   "outputs": [
    {
     "name": "stdout",
     "output_type": "stream",
     "text": [
      "1\n",
      "2\n",
      "3\n",
      "4\n",
      "5\n",
      "6\n",
      "7\n",
      "8\n",
      "9\n",
      "10\n"
     ]
    }
   ],
   "source": [
    "i=1\n",
    "while i<11:\n",
    "    print(i)\n",
    "    i=i+1"
   ]
  },
  {
   "cell_type": "markdown",
   "id": "903556e0",
   "metadata": {},
   "source": [
    "8. Use a while loop to print the even numbers from 2 to 10."
   ]
  },
  {
   "cell_type": "code",
   "execution_count": 11,
   "id": "8c5ffb1d",
   "metadata": {},
   "outputs": [
    {
     "name": "stdout",
     "output_type": "stream",
     "text": [
      "2\n",
      "4\n",
      "6\n",
      "8\n",
      "10\n"
     ]
    }
   ],
   "source": [
    "i=2\n",
    "while i<11:\n",
    "    print(i)\n",
    "    i=i+2"
   ]
  },
  {
   "cell_type": "markdown",
   "id": "34c6eea2",
   "metadata": {},
   "source": [
    "9. Use a while loop to print the squares of the numbers from 1 to 5."
   ]
  },
  {
   "cell_type": "code",
   "execution_count": 12,
   "id": "d9d3dc01",
   "metadata": {},
   "outputs": [
    {
     "name": "stdout",
     "output_type": "stream",
     "text": [
      "1\n",
      "4\n",
      "9\n",
      "16\n",
      "25\n"
     ]
    }
   ],
   "source": [
    "i=1\n",
    "while i<6:\n",
    "    print(i**2)\n",
    "    i=i+1"
   ]
  },
  {
   "cell_type": "markdown",
   "id": "17f8bdfc",
   "metadata": {},
   "source": [
    "10. Use a for loop to print the sum of the numbers in my_tuple."
   ]
  },
  {
   "cell_type": "code",
   "execution_count": 13,
   "id": "2074d5e4",
   "metadata": {},
   "outputs": [
    {
     "name": "stdout",
     "output_type": "stream",
     "text": [
      "2\n",
      "3\n",
      "4\n",
      "5\n",
      "6\n",
      "7\n"
     ]
    }
   ],
   "source": [
    "my_tuple=(1,2,3,4,5,6)\n",
    "sum=1\n",
    "for i in my_tuple:\n",
    "    print(i+sum)"
   ]
  },
  {
   "cell_type": "code",
   "execution_count": null,
   "id": "71785d0f",
   "metadata": {},
   "outputs": [],
   "source": []
  }
 ],
 "metadata": {
  "kernelspec": {
   "display_name": "Python 3 (ipykernel)",
   "language": "python",
   "name": "python3"
  },
  "language_info": {
   "codemirror_mode": {
    "name": "ipython",
    "version": 3
   },
   "file_extension": ".py",
   "mimetype": "text/x-python",
   "name": "python",
   "nbconvert_exporter": "python",
   "pygments_lexer": "ipython3",
   "version": "3.10.9"
  }
 },
 "nbformat": 4,
 "nbformat_minor": 5
}
