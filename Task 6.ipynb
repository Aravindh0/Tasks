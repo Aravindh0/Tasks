{
 "cells": [
  {
   "cell_type": "markdown",
   "id": "4861f635",
   "metadata": {},
   "source": [
    "# Task 6"
   ]
  },
  {
   "cell_type": "markdown",
   "id": "9292ef81",
   "metadata": {},
   "source": [
    "1. Import the NumPy library and create a 2D array data from the given data in the table above."
   ]
  },
  {
   "cell_type": "code",
   "execution_count": 1,
   "id": "26dcb566",
   "metadata": {},
   "outputs": [],
   "source": [
    "import pandas as pd \n",
    "import numpy as np\n",
    "\n",
    "import warnings\n",
    "warnings.filterwarnings(\"ignore\")"
   ]
  },
  {
   "cell_type": "code",
   "execution_count": 2,
   "id": "cf629e9c",
   "metadata": {},
   "outputs": [
    {
     "data": {
      "text/html": [
       "<div>\n",
       "<style scoped>\n",
       "    .dataframe tbody tr th:only-of-type {\n",
       "        vertical-align: middle;\n",
       "    }\n",
       "\n",
       "    .dataframe tbody tr th {\n",
       "        vertical-align: top;\n",
       "    }\n",
       "\n",
       "    .dataframe thead th {\n",
       "        text-align: right;\n",
       "    }\n",
       "</style>\n",
       "<table border=\"1\" class=\"dataframe\">\n",
       "  <thead>\n",
       "    <tr style=\"text-align: right;\">\n",
       "      <th></th>\n",
       "      <th>Name</th>\n",
       "      <th>Gender</th>\n",
       "      <th>Age</th>\n",
       "      <th>Height (cm)</th>\n",
       "      <th>Weight (kg)</th>\n",
       "      <th>City</th>\n",
       "    </tr>\n",
       "  </thead>\n",
       "  <tbody>\n",
       "    <tr>\n",
       "      <th>0</th>\n",
       "      <td>Alice</td>\n",
       "      <td>Female</td>\n",
       "      <td>25</td>\n",
       "      <td>165</td>\n",
       "      <td>58</td>\n",
       "      <td>New York</td>\n",
       "    </tr>\n",
       "    <tr>\n",
       "      <th>1</th>\n",
       "      <td>Bob</td>\n",
       "      <td>Male</td>\n",
       "      <td>30</td>\n",
       "      <td>180</td>\n",
       "      <td>80</td>\n",
       "      <td>Los Angeles</td>\n",
       "    </tr>\n",
       "    <tr>\n",
       "      <th>2</th>\n",
       "      <td>Charlie</td>\n",
       "      <td>Male</td>\n",
       "      <td>35</td>\n",
       "      <td>175</td>\n",
       "      <td>70</td>\n",
       "      <td>Chicago</td>\n",
       "    </tr>\n",
       "    <tr>\n",
       "      <th>3</th>\n",
       "      <td>Diana</td>\n",
       "      <td>Female</td>\n",
       "      <td>28</td>\n",
       "      <td>170</td>\n",
       "      <td>65</td>\n",
       "      <td>Miami</td>\n",
       "    </tr>\n",
       "    <tr>\n",
       "      <th>4</th>\n",
       "      <td>Eva</td>\n",
       "      <td>Female</td>\n",
       "      <td>27</td>\n",
       "      <td>175</td>\n",
       "      <td>60</td>\n",
       "      <td>New York</td>\n",
       "    </tr>\n",
       "    <tr>\n",
       "      <th>5</th>\n",
       "      <td>Frank</td>\n",
       "      <td>Male</td>\n",
       "      <td>40</td>\n",
       "      <td>190</td>\n",
       "      <td>85</td>\n",
       "      <td>Houston</td>\n",
       "    </tr>\n",
       "    <tr>\n",
       "      <th>6</th>\n",
       "      <td>Grace</td>\n",
       "      <td>Female</td>\n",
       "      <td>32</td>\n",
       "      <td>168</td>\n",
       "      <td>55</td>\n",
       "      <td>Chicago</td>\n",
       "    </tr>\n",
       "    <tr>\n",
       "      <th>7</th>\n",
       "      <td>Henry</td>\n",
       "      <td>Male</td>\n",
       "      <td>45</td>\n",
       "      <td>175</td>\n",
       "      <td>75</td>\n",
       "      <td>Los Angeles</td>\n",
       "    </tr>\n",
       "    <tr>\n",
       "      <th>8</th>\n",
       "      <td>Ivy</td>\n",
       "      <td>Female</td>\n",
       "      <td>26</td>\n",
       "      <td>172</td>\n",
       "      <td>63</td>\n",
       "      <td>Miami</td>\n",
       "    </tr>\n",
       "    <tr>\n",
       "      <th>9</th>\n",
       "      <td>Jack</td>\n",
       "      <td>Male</td>\n",
       "      <td>28</td>\n",
       "      <td>180</td>\n",
       "      <td>78</td>\n",
       "      <td>New York</td>\n",
       "    </tr>\n",
       "  </tbody>\n",
       "</table>\n",
       "</div>"
      ],
      "text/plain": [
       "      Name  Gender  Age  Height (cm)  Weight (kg)         City\n",
       "0    Alice  Female   25          165           58     New York\n",
       "1      Bob    Male   30          180           80  Los Angeles\n",
       "2  Charlie    Male   35          175           70      Chicago\n",
       "3    Diana  Female   28          170           65        Miami\n",
       "4      Eva  Female   27          175           60     New York\n",
       "5    Frank    Male   40          190           85      Houston\n",
       "6    Grace  Female   32          168           55      Chicago\n",
       "7    Henry    Male   45          175           75  Los Angeles\n",
       "8      Ivy  Female   26          172           63        Miami\n",
       "9     Jack    Male   28          180           78     New York"
      ]
     },
     "execution_count": 2,
     "metadata": {},
     "output_type": "execute_result"
    }
   ],
   "source": [
    "df=pd.read_csv('D:\\data science/padas_question.csv')\n",
    "df"
   ]
  },
  {
   "cell_type": "code",
   "execution_count": 3,
   "id": "d9510f09",
   "metadata": {},
   "outputs": [
    {
     "data": {
      "text/plain": [
       "[['Alice', 'Female', 25, 165, 58, 'New York'],\n",
       " ['Bob', 'Male', 30, 180, 80, 'Los Angeles'],\n",
       " ['Charlie', 'Male', 35, 175, 70, 'Chicago'],\n",
       " ['Diana', 'Female', 28, 170, 65, 'Miami'],\n",
       " ['Eva', 'Female', 27, 175, 60, 'New York'],\n",
       " ['Frank', 'Male', 40, 190, 85, 'Houston'],\n",
       " ['Grace', 'Female', 32, 168, 55, 'Chicago'],\n",
       " ['Henry', 'Male', 45, 175, 75, 'Los Angeles'],\n",
       " ['Ivy', 'Female', 26, 172, 63, 'Miami'],\n",
       " ['Jack', 'Male', 28, 180, 78, 'New York']]"
      ]
     },
     "execution_count": 3,
     "metadata": {},
     "output_type": "execute_result"
    }
   ],
   "source": [
    "data_list=df.values.tolist()\n",
    "data_list"
   ]
  },
  {
   "cell_type": "code",
   "execution_count": 4,
   "id": "c6537810",
   "metadata": {},
   "outputs": [
    {
     "data": {
      "text/plain": [
       "array([['Alice', 'Female', 25, 165, 58, 'New York'],\n",
       "       ['Bob', 'Male', 30, 180, 80, 'Los Angeles'],\n",
       "       ['Charlie', 'Male', 35, 175, 70, 'Chicago'],\n",
       "       ['Diana', 'Female', 28, 170, 65, 'Miami'],\n",
       "       ['Eva', 'Female', 27, 175, 60, 'New York'],\n",
       "       ['Frank', 'Male', 40, 190, 85, 'Houston'],\n",
       "       ['Grace', 'Female', 32, 168, 55, 'Chicago'],\n",
       "       ['Henry', 'Male', 45, 175, 75, 'Los Angeles'],\n",
       "       ['Ivy', 'Female', 26, 172, 63, 'Miami'],\n",
       "       ['Jack', 'Male', 28, 180, 78, 'New York']], dtype=object)"
      ]
     },
     "execution_count": 4,
     "metadata": {},
     "output_type": "execute_result"
    }
   ],
   "source": [
    "data_list=np.array(df)\n",
    "data_list"
   ]
  },
  {
   "cell_type": "markdown",
   "id": "1fff7081",
   "metadata": {},
   "source": [
    "2. Print the shape of the data array"
   ]
  },
  {
   "cell_type": "code",
   "execution_count": 5,
   "id": "c8bb2ce9",
   "metadata": {},
   "outputs": [
    {
     "data": {
      "text/plain": [
       "(10, 6)"
      ]
     },
     "execution_count": 5,
     "metadata": {},
     "output_type": "execute_result"
    }
   ],
   "source": [
    "df.shape"
   ]
  },
  {
   "cell_type": "markdown",
   "id": "973f4e0c",
   "metadata": {},
   "source": [
    "3. Extract the column of heights from the data array and assign it to a new variable heights."
   ]
  },
  {
   "cell_type": "code",
   "execution_count": 6,
   "id": "cef57922",
   "metadata": {},
   "outputs": [
    {
     "data": {
      "text/plain": [
       "array([165, 180, 175, 170, 175, 190, 168, 175, 172, 180], dtype=object)"
      ]
     },
     "execution_count": 6,
     "metadata": {},
     "output_type": "execute_result"
    }
   ],
   "source": [
    "heights=data_list[:,3] # take all rows and the fourth column (index 3)\n",
    "heights"
   ]
  },
  {
   "cell_type": "markdown",
   "id": "5e526d3d",
   "metadata": {},
   "source": [
    "4. Calculate the mean height of the group using NumPy."
   ]
  },
  {
   "cell_type": "code",
   "execution_count": 7,
   "id": "29a48b60",
   "metadata": {},
   "outputs": [
    {
     "data": {
      "text/plain": [
       "175.0"
      ]
     },
     "execution_count": 7,
     "metadata": {},
     "output_type": "execute_result"
    }
   ],
   "source": [
    "np.mean(heights)"
   ]
  },
  {
   "cell_type": "markdown",
   "id": "14c1de74",
   "metadata": {},
   "source": [
    "5. Extract the rows of females from the data array and assign it to a new variable females."
   ]
  },
  {
   "cell_type": "code",
   "execution_count": 8,
   "id": "f5d24dae",
   "metadata": {},
   "outputs": [
    {
     "data": {
      "text/plain": [
       "array([['Alice', 'Female', 25, 165, 58, 'New York'],\n",
       "       ['Diana', 'Female', 28, 170, 65, 'Miami'],\n",
       "       ['Eva', 'Female', 27, 175, 60, 'New York'],\n",
       "       ['Grace', 'Female', 32, 168, 55, 'Chicago'],\n",
       "       ['Ivy', 'Female', 26, 172, 63, 'Miami']], dtype=object)"
      ]
     },
     "execution_count": 8,
     "metadata": {},
     "output_type": "execute_result"
    }
   ],
   "source": [
    "females=data_list[data_list[:,1]=='Female']\n",
    "females"
   ]
  },
  {
   "cell_type": "markdown",
   "id": "2233e6e2",
   "metadata": {},
   "source": [
    "6. Calculate the mean weight of the females in the group using NumPy."
   ]
  },
  {
   "cell_type": "code",
   "execution_count": 9,
   "id": "10cc593a",
   "metadata": {},
   "outputs": [
    {
     "data": {
      "text/plain": [
       "array([58, 65, 60, 55, 63], dtype=object)"
      ]
     },
     "execution_count": 9,
     "metadata": {},
     "output_type": "execute_result"
    }
   ],
   "source": [
    "weight=females[:,4] \n",
    "weight"
   ]
  },
  {
   "cell_type": "code",
   "execution_count": 10,
   "id": "31a03e8a",
   "metadata": {},
   "outputs": [
    {
     "data": {
      "text/plain": [
       "60.2"
      ]
     },
     "execution_count": 10,
     "metadata": {},
     "output_type": "execute_result"
    }
   ],
   "source": [
    "np.mean(weight)"
   ]
  },
  {
   "cell_type": "code",
   "execution_count": null,
   "id": "9bb9cce7",
   "metadata": {},
   "outputs": [],
   "source": []
  }
 ],
 "metadata": {
  "kernelspec": {
   "display_name": "Python 3 (ipykernel)",
   "language": "python",
   "name": "python3"
  },
  "language_info": {
   "codemirror_mode": {
    "name": "ipython",
    "version": 3
   },
   "file_extension": ".py",
   "mimetype": "text/x-python",
   "name": "python",
   "nbconvert_exporter": "python",
   "pygments_lexer": "ipython3",
   "version": "3.10.9"
  }
 },
 "nbformat": 4,
 "nbformat_minor": 5
}
