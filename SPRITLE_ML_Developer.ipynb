{
  "nbformat": 4,
  "nbformat_minor": 0,
  "metadata": {
    "colab": {
      "provenance": [],
      "authorship_tag": "ABX9TyOrgYl/pOzYo0KmTBkG4kra",
      "include_colab_link": true
    },
    "kernelspec": {
      "name": "python3",
      "display_name": "Python 3"
    },
    "language_info": {
      "name": "python"
    }
  },
  "cells": [
    {
      "cell_type": "markdown",
      "metadata": {
        "id": "view-in-github",
        "colab_type": "text"
      },
      "source": [
        "<a href=\"https://colab.research.google.com/github/Aravindh0/Tasks/blob/main/SPRITLE_ML_Developer.ipynb\" target=\"_parent\"><img src=\"https://colab.research.google.com/assets/colab-badge.svg\" alt=\"Open In Colab\"/></a>"
      ]
    },
    {
      "cell_type": "markdown",
      "source": [
        "1.) Create two custom layers in TensorFlow that add two inputs and multiply two inputs\n",
        "respectively [or any other mathematical operations of your choice(linear or\n",
        "nonlinear)] Add layer names and other things that are present in other common\n",
        "layers in TensorFlow."
      ],
      "metadata": {
        "id": "31b-OKHwnFlZ"
      }
    },
    {
      "cell_type": "code",
      "source": [
        "#Custom Addition Layer:\n",
        "import tensorflow as tf\n",
        "\n",
        "class AddLayer(tf.keras.layers.Layer):\n",
        "    def __init__(self, **kwargs):\n",
        "        super(AddLayer, self).__init__(**kwargs)\n",
        "\n",
        "    def call(self, inputs):\n",
        "        return tf.add(inputs[0], inputs[1])\n",
        "\n",
        "    def get_config(self):\n",
        "        config = super().get_config()\n",
        "        return config"
      ],
      "metadata": {
        "id": "xpqf0VocmHCF"
      },
      "execution_count": null,
      "outputs": []
    },
    {
      "cell_type": "code",
      "source": [
        "#Custom Multiplication Layer:\n",
        "\n",
        "class MultiplyLayer(tf.keras.layers.Layer):\n",
        "    def __init__(self, **kwargs):\n",
        "        super(MultiplyLayer, self).__init__(**kwargs)\n",
        "\n",
        "    def call(self, inputs):\n",
        "        return tf.multiply(inputs[0], inputs[1])\n",
        "\n",
        "    def get_config(self):\n",
        "        config = super().get_config()\n",
        "        return config"
      ],
      "metadata": {
        "id": "IAtV2ifdmHLs"
      },
      "execution_count": null,
      "outputs": []
    },
    {
      "cell_type": "markdown",
      "source": [
        "2.) Combine these two layers in a third custom layer. Concatenate them or multiply\n",
        "them etc"
      ],
      "metadata": {
        "id": "EGcQYKLBoHEn"
      }
    },
    {
      "cell_type": "code",
      "source": [
        "\n",
        "#Custom Combined Layer (Concatenation):\n",
        "\n",
        "class CombinedLayer(tf.keras.layers.Layer):\n",
        "    def __init__(self, **kwargs):\n",
        "        super(CombinedLayer, self).__init__(**kwargs)\n",
        "        self.add_layer = AddLayer()  # Assuming AddLayer and MultiplyLayer are previously defined\n",
        "        self.multiply_layer = MultiplyLayer()\n",
        "\n",
        "    def call(self, inputs):\n",
        "        added = self.add_layer(inputs)\n",
        "        multiplied = self.multiply_layer(inputs)\n",
        "        concatenated = tf.concat([added, multiplied], axis=-1)  # Concatenate along the last dimension\n",
        "        return concatenated\n",
        "\n",
        "    def get_config(self):\n",
        "        config = super().get_config()\n",
        "        return config"
      ],
      "metadata": {
        "id": "4ZyE40kXmHTj"
      },
      "execution_count": null,
      "outputs": []
    },
    {
      "cell_type": "markdown",
      "source": [
        "3. Create a model using these and observe how batch inference works."
      ],
      "metadata": {
        "id": "vjTb8_jvoy-x"
      }
    },
    {
      "cell_type": "code",
      "source": [
        "\n",
        "#Custom Layers\n",
        "class AddLayer(tf.keras.layers.Layer):\n",
        "    def __init__(self, **kwargs):\n",
        "        super(AddLayer, self).__init__(**kwargs)\n",
        "\n",
        "    def call(self, inputs):\n",
        "        return tf.add(inputs[0], inputs[1])\n",
        "\n",
        "    def get_config(self):\n",
        "        config = super().get_config()\n",
        "        return config\n",
        "\n",
        "class MultiplyLayer(tf.keras.layers.Layer):\n",
        "    def __init__(self, **kwargs):\n",
        "        super(MultiplyLayer, self).__init__(**kwargs)\n",
        "\n",
        "    def call(self, inputs):\n",
        "        return tf.multiply(inputs[0], inputs[1])\n",
        "\n",
        "    def get_config(self):\n",
        "        config = super().get_config()\n",
        "        return config\n",
        "\n",
        "class CombinedLayer(tf.keras.layers.Layer):\n",
        "    def __init__(self, **kwargs):\n",
        "        super(CombinedLayer, self).__init__(**kwargs)\n",
        "        self.add_layer = AddLayer()\n",
        "        self.multiply_layer = MultiplyLayer()\n",
        "\n",
        "    def call(self, inputs):\n",
        "        added = self.add_layer(inputs)\n",
        "        multiplied = self.multiply_layer(inputs)\n",
        "        concatenated = tf.concat([added, multiplied], axis=-1)\n",
        "        return concatenated\n",
        "\n",
        "    def get_config(self):\n",
        "        config = super().get_config()\n",
        "        return config\n",
        "\n",
        "# Create a model\n",
        "input_1 = tf.keras.layers.Input(shape=(3,))\n",
        "input_2 = tf.keras.layers.Input(shape=(3,))\n",
        "\n",
        "combined = CombinedLayer()([input_1, input_2])\n",
        "model = tf.keras.models.Model(inputs=[input_1, input_2], outputs=combined)\n",
        "\n",
        "# Generate some dummy data for batch inference\n",
        "import numpy as np\n",
        "batch_size = 4\n",
        "input_data_1 = np.random.rand(batch_size, 3)\n",
        "input_data_2 = np.random.rand(batch_size, 3)\n",
        "\n",
        "# Perform batch inference\n",
        "predictions = model.predict([input_data_1, input_data_2])\n",
        "\n",
        "print(\"Input Data 1:\\n\", input_data_1)\n",
        "print(\"Input Data 2:\\n\", input_data_2)\n",
        "print(\"Predictions:\\n\", predictions)"
      ],
      "metadata": {
        "id": "XOMSjqi9mH6L",
        "colab": {
          "base_uri": "https://localhost:8080/"
        },
        "outputId": "0b7a689c-9111-4993-e763-92bbb786dff2"
      },
      "execution_count": null,
      "outputs": [
        {
          "output_type": "stream",
          "name": "stdout",
          "text": [
            "1/1 [==============================] - 0s 124ms/step\n",
            "Input Data 1:\n",
            " [[0.57454089 0.49867206 0.69025245]\n",
            " [0.85554926 0.01440186 0.54360092]\n",
            " [0.35449344 0.87762908 0.65524333]\n",
            " [0.61771149 0.19590191 0.13430546]]\n",
            "Input Data 2:\n",
            " [[0.5525221  0.47236694 0.63655099]\n",
            " [0.30986137 0.42342856 0.77956896]\n",
            " [0.89584738 0.95228708 0.73537802]\n",
            " [0.3396914  0.84954365 0.44841481]]\n",
            "Predictions:\n",
            " [[1.127063   0.971039   1.3268034  0.31744656 0.2355562  0.43938085]\n",
            " [1.1654106  0.43783042 1.32317    0.26510167 0.00609816 0.42377442]\n",
            " [1.2503408  1.8299162  1.3906214  0.31757203 0.8357549  0.48185155]\n",
            " [0.9574029  1.0454456  0.5827203  0.20983128 0.16642721 0.06022456]]\n"
          ]
        }
      ]
    },
    {
      "cell_type": "markdown",
      "source": [
        "4. Use a predefined layer in Tensorflow to split an input/image into 4x4 = 16 tiles."
      ],
      "metadata": {
        "id": "m8icv4gFpX-t"
      }
    },
    {
      "cell_type": "code",
      "source": [
        "#Assuming 'image' is your input image (e.g., shape: (batch_size, height, width, channels))\n",
        "#For demonstration purposes, let's create a dummy image\n",
        "batch_size = 1\n",
        "height, width, channels = 8, 8, 3\n",
        "image = tf.random.normal((batch_size, height, width, channels))\n",
        "\n",
        "#Define the parameters for patch extraction\n",
        "patch_size = (1, 4, 4, 1)  # (batch_size, patch_height, patch_width, channels)\n",
        "strides = (1, 4, 4, 1)  # How much to move the window in each dimension\n",
        "\n",
        "#Extract patches from the image\n",
        "patches = tf.image.extract_patches(images=image, sizes=[1, 4, 4, 1], strides=[1, 4, 4, 1], rates=[1, 1, 1, 1], padding='VALID')\n",
        "\n",
        "print(\"Input Image Shape:\", image.shape)\n",
        "print(\"Extracted Patches Shape:\", patches.shape)"
      ],
      "metadata": {
        "id": "rmkTNe8kmIFY",
        "colab": {
          "base_uri": "https://localhost:8080/"
        },
        "outputId": "da7acafe-40ae-4b69-9dfa-e779116f60bc"
      },
      "execution_count": null,
      "outputs": [
        {
          "output_type": "stream",
          "name": "stdout",
          "text": [
            "Input Image Shape: (1, 8, 8, 3)\n",
            "Extracted Patches Shape: (1, 2, 2, 48)\n"
          ]
        }
      ]
    },
    {
      "cell_type": "markdown",
      "source": [
        "5. Write a graph data structure in python with random connections between nodes."
      ],
      "metadata": {
        "id": "uexQ8YTzp9F1"
      }
    },
    {
      "cell_type": "code",
      "source": [
        "\n",
        "import random\n",
        "\n",
        "class Graph:\n",
        "    def __init__(self):\n",
        "        self.graph = {}\n",
        "\n",
        "    def add_node(self, node):\n",
        "        if node not in self.graph:\n",
        "            self.graph[node] = []\n",
        "\n",
        "    def add_edge(self, node1, node2):\n",
        "        # Add edges between nodes\n",
        "        if node1 in self.graph and node2 in self.graph:\n",
        "            if node2 not in self.graph[node1]:\n",
        "                self.graph[node1].append(node2)\n",
        "            if node1 not in self.graph[node2]:\n",
        "                self.graph[node2].append(node1)\n",
        "\n",
        "    def print_graph(self):\n",
        "        for node in self.graph:\n",
        "            print(node, '->', ' '.join(map(str, self.graph[node])))\n",
        "\n",
        "    def generate_random_connections(self, num_nodes, num_edges):\n",
        "        # Generate random connections between nodes\n",
        "        for _ in range(num_nodes):\n",
        "            self.add_node(_)\n",
        "\n",
        "        nodes = list(self.graph.keys())\n",
        "        for _ in range(num_edges):\n",
        "            node1 = random.choice(nodes)\n",
        "            node2 = random.choice(nodes)\n",
        "            self.add_edge(node1, node2)\n",
        "\n",
        "#Create a graph and generate random connections\n",
        "my_graph = Graph()\n",
        "num_nodes = 5\n",
        "num_edges = 8\n",
        "my_graph.generate_random_connections(num_nodes, num_edges)\n",
        "\n",
        "#Print the graph\n",
        "my_graph.print_graph()"
      ],
      "metadata": {
        "id": "9e6xfGBTmIX2",
        "colab": {
          "base_uri": "https://localhost:8080/"
        },
        "outputId": "5349870f-a2e7-4767-ff65-f0b77bf49bff"
      },
      "execution_count": null,
      "outputs": [
        {
          "output_type": "stream",
          "name": "stdout",
          "text": [
            "0 -> 2 1\n",
            "1 -> 4 0 2 3\n",
            "2 -> 0 3 1\n",
            "3 -> 2 1\n",
            "4 -> 1\n"
          ]
        }
      ]
    },
    {
      "cell_type": "code",
      "source": [
        "import random\n",
        "import networkx as nx\n",
        "import matplotlib.pyplot as plt\n",
        "\n",
        "class Graph:\n",
        "    def __init__(self):\n",
        "        self.graph = {}\n",
        "\n",
        "    def add_node(self, node):\n",
        "        if node not in self.graph:\n",
        "            self.graph[node] = []\n",
        "\n",
        "    def add_edge(self, node1, node2):\n",
        "        if node1 in self.graph and node2 in self.graph:\n",
        "            if node2 not in self.graph[node1]:\n",
        "                self.graph[node1].append(node2)\n",
        "            if node1 not in self.graph[node2]:\n",
        "                self.graph[node2].append(node1)\n",
        "\n",
        "    def visualize_graph(self):\n",
        "        G = nx.Graph(self.graph)\n",
        "        pos = nx.spring_layout(G)\n",
        "\n",
        "        plt.figure(figsize=(6, 6))\n",
        "        nx.draw(G, pos, with_labels=True, node_size=500, node_color='skyblue', font_weight='bold', font_size=10)\n",
        "        plt.title('Randomly Generated Graph')\n",
        "        plt.show()\n",
        "\n",
        "    def generate_random_connections(self, num_nodes, num_edges):\n",
        "        for i in range(num_nodes):\n",
        "            self.add_node(i)\n",
        "\n",
        "        nodes = list(self.graph.keys())\n",
        "        for _ in range(num_edges):\n",
        "            node1 = random.choice(nodes)\n",
        "            node2 = random.choice(nodes)\n",
        "            self.add_edge(node1, node2)\n",
        "\n",
        "# Create a graph and generate random connections\n",
        "my_graph = Graph()\n",
        "num_nodes = 5\n",
        "num_edges = 8\n",
        "my_graph.generate_random_connections(num_nodes, num_edges)\n",
        "\n",
        "# Visualize the graph\n",
        "my_graph.visualize_graph()"
      ],
      "metadata": {
        "id": "8XnHB5zvmHbD",
        "colab": {
          "base_uri": "https://localhost:8080/",
          "height": 332
        },
        "outputId": "4f1caa1f-bbcb-4aa9-f526-48434c4abb27"
      },
      "execution_count": null,
      "outputs": [
        {
          "output_type": "display_data",
          "data": {
            "text/plain": [
              "<Figure size 600x600 with 1 Axes>"
            ],
            "image/png": "[encoded data removed]"
          },
          "metadata": {}
        }
      ]
    },
    {
      "cell_type": "markdown",
      "source": [
        "6.\n",
        ")a. Do inference in one of the nodes and write any rules (>,<,==) to decide the\n",
        "\n",
        "next node based on the output."
      ],
      "metadata": {
        "id": "OLbS6Is5q33b"
      }
    },
    {
      "cell_type": "code",
      "source": [
        "#Function to perform inference\n",
        "def perform_inference():\n",
        "    # Generate a random input for inference\n",
        "    input_data = random.randint(1, 100)\n",
        "\n",
        "    # Perform inference (a simple rule: if input is greater than 50, return True; otherwise, return False)\n",
        "    if input_data > 50:\n",
        "        return True\n",
        "    else:\n",
        "        return False\n",
        "\n",
        "#Function to decide the next node based on the output of inference\n",
        "def decide_next_node():\n",
        "    output_value = perform_inference()\n",
        "\n",
        "    # Rule: if output is True (input > 50), move to Node_A; otherwise, move to Node_B\n",
        "    if output_value:\n",
        "        return \"Node_A\"\n",
        "    else:\n",
        "        return \"Node_B\"\n",
        "\n",
        "#Example usage of inference and decision-making in the node\n",
        "next_node = decide_next_node()\n",
        "print(\"Next node based on inference output:\", next_node)"
      ],
      "metadata": {
        "id": "huvsz1zUmHhp",
        "colab": {
          "base_uri": "https://localhost:8080/"
        },
        "outputId": "3b4fbc32-7532-4995-c1e8-ba996dc141e8"
      },
      "execution_count": null,
      "outputs": [
        {
          "output_type": "stream",
          "name": "stdout",
          "text": [
            "Next node based on inference output: Node_A\n"
          ]
        }
      ]
    },
    {
      "cell_type": "markdown",
      "source": [
        "b. You can choose to use the custom model you have created in questions 1 or\n",
        "2 inside the node. The input can be a random input created using\n",
        "random.randint(1,100). You can use any error correction techniques\n",
        "we used before."
      ],
      "metadata": {
        "id": "ktR57cUnryzs"
      }
    },
    {
      "cell_type": "code",
      "source": [
        "#Custom Model (Addition Layer) used for inference in the node\n",
        "class AddLayer(tf.keras.layers.Layer):\n",
        "    def __init__(self, **kwargs):\n",
        "        super(AddLayer, self).__init__(**kwargs)\n",
        "\n",
        "    def call(self, inputs):\n",
        "        return tf.add(inputs[0], inputs[1])\n",
        "\n",
        "    def get_config(self):\n",
        "        config = super().get_config()\n",
        "        return config\n",
        "\n",
        "#Function to perform inference with error correction\n",
        "def perform_inference():\n",
        "    model = tf.keras.Sequential([AddLayer()])\n",
        "\n",
        "    # Generate a random input for inference\n",
        "    input_data = random.randint(1, 100)\n",
        "\n",
        "    # Error correction for input exceeding the expected range (1-100)\n",
        "    input_data = max(1, min(input_data, 100))\n",
        "\n",
        "    # Perform inference with the custom model\n",
        "    output = model.predict([input_data, input_data])\n",
        "    return output\n",
        "\n",
        "#Function to decide the next node based on the output of inference\n",
        "def decide_next_node():\n",
        "    output_value = perform_inference()\n",
        "\n",
        "    # Rule: if output is greater than 90, move to Node_X; otherwise, move to Node_Y\n",
        "    if output_value > 90:\n",
        "        return \"Node_X\"\n",
        "    else:\n",
        "        return \"Node_Y\"\n",
        "\n",
        "#Example usage of inference and decision-making in the node\n",
        "next_node = decide_next_node()\n",
        "print(\"Next node based on inference output:\", next_node)"
      ],
      "metadata": {
        "colab": {
          "base_uri": "https://localhost:8080/"
        },
        "id": "6Jho5qDwrxmF",
        "outputId": "f5d669cf-2a3d-43e2-88d7-883f33cb5423"
      },
      "execution_count": 13,
      "outputs": [
        {
          "output_type": "stream",
          "name": "stdout",
          "text": [
            "1/1 [==============================] - 0s 76ms/step\n",
            "Next node based on inference output: Node_X\n"
          ]
        }
      ]
    },
    {
      "cell_type": "code",
      "source": [],
      "metadata": {
        "id": "lflEoGrWmHl5"
      },
      "execution_count": null,
      "outputs": []
    }
  ]
}